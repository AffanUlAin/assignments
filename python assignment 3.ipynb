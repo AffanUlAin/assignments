{
 "cells": [
  {
   "cell_type": "markdown",
   "metadata": {},
   "source": [
    "1. Write a program which takes 5 inputs from user for different subject’s\n",
    "marks, total it and generate mark sheet using grades ?"
   ]
  },
  {
   "cell_type": "code",
   "execution_count": 1,
   "metadata": {},
   "outputs": [
    {
     "name": "stdout",
     "output_type": "stream",
     "text": [
      "Please enter your marks in subject 178\n",
      "Please enter your marks in subject 26\n",
      "Please enter your marks in subject 387\n",
      "Please enter your marks in subject 490\n",
      "Please enter your marks in subject 599\n",
      "A\n"
     ]
    }
   ],
   "source": [
    "m1 = int(input('Please enter your marks in subject 1 '));\n",
    "m2 = int(input('Please enter your marks in subject 2 '));\n",
    "m3 = int(input('Please enter your marks in subject 3 '));\n",
    "m4 = int(input('Please enter your marks in subject 4 '));\n",
    "m5 = int(input('Please enter your marks in subject 5 '));\n",
    "\n",
    "per = ((m1 + m2 + m3 + m4 + m5)/ 500) * 100\n",
    "\n",
    "if per >= 80 and per < 100:\n",
    "    print(\"A+\")\n",
    "elif per >= 70 and per < 80:\n",
    "    print(\"A\")\n",
    "elif per >= 60 and per < 70:\n",
    "    print(\"B\")\n",
    "elif per >= 50 and per < 60:\n",
    "    print(\"C\")\n",
    "elif per >= 40 and per < 50:\n",
    "    print(\"D\")\n",
    "elif per >= 33:\n",
    "    print(\"E\")\n",
    "elif per >= 0 and per < 33:\n",
    "    print(\"Fail\")\n",
    "else:\n",
    "    print(\"You have given wrong Percentage\")"
   ]
  },
  {
   "cell_type": "markdown",
   "metadata": {},
   "source": [
    "2. Write a program which take input from user and identify that the given\n",
    "number is even or odd?\n"
   ]
  },
  {
   "cell_type": "code",
   "execution_count": 6,
   "metadata": {},
   "outputs": [
    {
     "name": "stdout",
     "output_type": "stream",
     "text": [
      "Please enter any number : 20\n",
      "even\n"
     ]
    }
   ],
   "source": [
    "num = int ( input ('Please enter any number : '));\n",
    "\n",
    "ans = num % 2;\n",
    "\n",
    "if ans > 0:\n",
    "    \n",
    "    print('odd')\n",
    "else: \n",
    "    print('even')\n",
    "    "
   ]
  },
  {
   "cell_type": "markdown",
   "metadata": {},
   "source": [
    "3. Write a program which print the length of the list?\n"
   ]
  },
  {
   "cell_type": "code",
   "execution_count": 7,
   "metadata": {},
   "outputs": [
    {
     "name": "stdout",
     "output_type": "stream",
     "text": [
      "14\n"
     ]
    }
   ],
   "source": [
    "numbers = [1,2,3,4,5,6,7,1,2,3,4,5,6,7]\n",
    "ans = len(numbers)\n",
    "print(ans)"
   ]
  },
  {
   "cell_type": "markdown",
   "metadata": {},
   "source": [
    "4. Write a Python program to sum all the numeric items in a list?\n"
   ]
  },
  {
   "cell_type": "code",
   "execution_count": 19,
   "metadata": {},
   "outputs": [
    {
     "name": "stdout",
     "output_type": "stream",
     "text": [
      "Enter the number of elememts you want to have in your list : 5\n",
      "Now input the element you want in the list 1\n",
      "Now input the element you want in the list 4\n",
      "Now input the element you want in the list 3\n",
      "Now input the element you want in the list 2\n",
      "Now input the element you want in the list 5\n",
      "[1, 4, 3, 2, 5]\n",
      "The sum is 15\n"
     ]
    }
   ],
   "source": [
    "list1 = list()\n",
    "n = int(input('Enter the number of elememts you want to have in your list : '))\n",
    "\n",
    "for i in range (0,n):\n",
    "    element = int(input(\"Now input the element you want in the list \"))\n",
    "    list1.append(element)\n",
    "print(list1)\n",
    "sum = 0\n",
    "\n",
    "for j in range(len(list1)):\n",
    "    sum = sum + list1[j]\n",
    "    \n",
    "print('The sum is', sum)"
   ]
  },
  {
   "cell_type": "markdown",
   "metadata": {},
   "source": [
    "5. Write a Python program to get the largest number from a numeric list."
   ]
  },
  {
   "cell_type": "code",
   "execution_count": 23,
   "metadata": {},
   "outputs": [
    {
     "name": "stdout",
     "output_type": "stream",
     "text": [
      "Enter the number of elememts you want to have in your list : 6\n",
      "Now input the element you want in the list 1\n",
      "Now input the element you want in the list 90\n",
      "Now input the element you want in the list 91\n",
      "Now input the element you want in the list 89\n",
      "Now input the element you want in the list 2\n",
      "Now input the element you want in the list 4\n",
      "[1, 90, 91, 89, 2, 4]\n",
      "The largest number you entered is  91\n"
     ]
    }
   ],
   "source": [
    "list1 = list()\n",
    "n = int(input('Enter the number of elememts you want to have in your list : '))\n",
    "\n",
    "for i in range (0,n):\n",
    "    element = int(input(\"Now input the element you want in the list \"))\n",
    "    list1.append(element)\n",
    "print(list1)\n",
    "\n",
    "largest = 0\n",
    "\n",
    "for j in range(len(list1)):\n",
    "    if list1[j] > largest :\n",
    "        largest = list1[j]\n",
    "    \n",
    "print('The largest number you entered is ',largest)"
   ]
  },
  {
   "cell_type": "markdown",
   "metadata": {},
   "source": [
    "6. Take a list, say for example this one:\n",
    " a = [1, 1, 2, 3, 5, 8, 13, 21, 34, 55, 89]\n",
    "and write a program that prints out all the elements of the list that are\n",
    "less than 5."
   ]
  },
  {
   "cell_type": "code",
   "execution_count": 25,
   "metadata": {},
   "outputs": [
    {
     "name": "stdout",
     "output_type": "stream",
     "text": [
      "Enter the number of elememts you want to have in your list : 10\n",
      "Now input the element you want in the list 10\n",
      "Now input the element you want in the list 9\n",
      "Now input the element you want in the list 8\n",
      "Now input the element you want in the list 1\n",
      "Now input the element you want in the list -1\n",
      "Now input the element you want in the list 2\n",
      "Now input the element you want in the list 6\n",
      "Now input the element you want in the list 5\n",
      "Now input the element you want in the list -2\n",
      "Now input the element you want in the list 3\n",
      "[10, 9, 8, 1, -1, 2, 6, 5, -2, 3]\n",
      "The list with elements less than 5 is [1, -1, 2, -2, 3]\n"
     ]
    }
   ],
   "source": [
    "list1 = list()\n",
    "n = int(input('Enter the number of elememts you want to have in your list : '))\n",
    "\n",
    "for i in range (0,n):\n",
    "    element = int(input(\"Now input the element you want in the list \"))\n",
    "    list1.append(element)\n",
    "print(list1)\n",
    "\n",
    "list2 = list()\n",
    "\n",
    "for j in range(len(list1)):\n",
    "    if list1[j] < 5:\n",
    "        list2.append(list1[j])\n",
    "        \n",
    "print('The list with elements less than 5 is', list2)"
   ]
  },
  {
   "cell_type": "code",
   "execution_count": null,
   "metadata": {},
   "outputs": [],
   "source": []
  }
 ],
 "metadata": {
  "kernelspec": {
   "display_name": "Python 3",
   "language": "python",
   "name": "python3"
  },
  "language_info": {
   "codemirror_mode": {
    "name": "ipython",
    "version": 3
   },
   "file_extension": ".py",
   "mimetype": "text/x-python",
   "name": "python",
   "nbconvert_exporter": "python",
   "pygments_lexer": "ipython3",
   "version": "3.7.4"
  }
 },
 "nbformat": 4,
 "nbformat_minor": 2
}
