{
 "cells": [
  {
   "cell_type": "markdown",
   "metadata": {},
   "source": [
    "1. Make a calculator using Python with addition , subtraction , multiplication ,\n",
    "    `division and power."
   ]
  },
  {
   "cell_type": "code",
   "execution_count": 2,
   "metadata": {},
   "outputs": [
    {
     "name": "stdout",
     "output_type": "stream",
     "text": [
      "Enter no 1 : 1\n",
      "Enter no 2 : 2\n",
      "Input the operation you want to peform\n",
      "addition\n",
      "subtraction\n",
      "multiplication\n",
      "division\n",
      "addition\n",
      "The result is  1  +  2  =  3\n"
     ]
    }
   ],
   "source": [
    "num1=int(input(\"Enter no 1 : \"))\n",
    "num2=int(input(\"Enter no 2 : \"))\n",
    "opr= input(\"Input the operation you want to peform\\naddition\\nsubtraction\\nmultiplication\\ndivision\\n\")\n",
    "\n",
    "if opr == \"addition\":\n",
    "    print(\"The result is \", num1, \" + \",num2,\" = \",num1 + num2)\n",
    "elif opr == \"subtraction\":\n",
    "    print(\"The result is \", num1, \" - \",num2,\" = \",num1 - num2)\n",
    "elif opr == \"multiplication\":\n",
    "    print(\"The result is \", num1, \" * \",num2,\" = \",num1 * num2)\n",
    "elif opr == \"division\":\n",
    "    print(\"The result is \", num1, \" / \",num2,\" = \",num1 / num2)\n",
    "else:\n",
    "    print(\"Invalid operator\")\n"
   ]
  },
  {
   "cell_type": "markdown",
   "metadata": {},
   "source": [
    "2. Write a program to check if there is any numeric value in list using for loop"
   ]
  },
  {
   "cell_type": "code",
   "execution_count": 9,
   "metadata": {},
   "outputs": [
    {
     "name": "stdout",
     "output_type": "stream",
     "text": [
      "Enter number of elements : 5\n",
      "1\n",
      "2\n",
      "3\n",
      "4\n",
      "5\n",
      "Enter the number you want to check :  6\n",
      "Absent\n"
     ]
    }
   ],
   "source": [
    "data = [] \n",
    "n = int(input(\"Enter number of elements : \")) \n",
    "  \n",
    "for i in range(0, n): \n",
    "    ele = int(input()) \n",
    "    data.append(ele)\n",
    "    \n",
    "key = int(input(\"Enter the number you want to check :  \"))\n",
    "flag = 0\n",
    "for j in data:\n",
    "    if key == j:\n",
    "        flag == 1\n",
    "        break\n",
    "    break\n",
    "            \n",
    "if flag == 1:\n",
    "    print(\"Yes Present\")\n",
    "    \n",
    "else:\n",
    "    print(\"Absent\")\n",
    "            \n",
    "\n",
    "      "
   ]
  },
  {
   "cell_type": "markdown",
   "metadata": {},
   "source": [
    "#### 3. Write a Python script to add a key to a dictionary\n"
   ]
  },
  {
   "cell_type": "code",
   "execution_count": 4,
   "metadata": {},
   "outputs": [
    {
     "name": "stdout",
     "output_type": "stream",
     "text": [
      "{'name': 'Affan', 'Roll No': 'EE-17020'}\n",
      "{'name': 'Affan', 'Roll No': 'EE-17020', 'section': 'A'}\n"
     ]
    }
   ],
   "source": [
    "data = {\"name\":\"Affan\", \"Roll No\":\"EE-17020\"}\n",
    "print(data)\n",
    "data.update({\"section\":\"A\"})\n",
    "print(data)"
   ]
  },
  {
   "cell_type": "markdown",
   "metadata": {},
   "source": [
    "4. Write a Python program to sum all the numeric items in a dictionary"
   ]
  },
  {
   "cell_type": "code",
   "execution_count": 5,
   "metadata": {},
   "outputs": [
    {
     "name": "stdout",
     "output_type": "stream",
     "text": [
      "500\n"
     ]
    }
   ],
   "source": [
    "data = {\"a\":100,\"b\":200,\"c\":200}\n",
    "sum = 0\n",
    "for i in data:\n",
    "    sum = sum + data[i]\n",
    "\n",
    "print(sum)"
   ]
  },
  {
   "cell_type": "markdown",
   "metadata": {},
   "source": [
    "5. Write a program to identify duplicate values from list"
   ]
  },
  {
   "cell_type": "code",
   "execution_count": 15,
   "metadata": {},
   "outputs": [
    {
     "name": "stdout",
     "output_type": "stream",
     "text": [
      "Enter number of elements : 5\n",
      "12\n",
      "3\n",
      "2\n",
      "3\n",
      "4\n",
      "The duplicate values you entered are  [12, 3, 3, 2, 3, 3]\n"
     ]
    }
   ],
   "source": [
    "data = [] \n",
    "n = int(input(\"Enter number of elements : \")) \n",
    "  \n",
    "for i in range(0, n): \n",
    "    ele = int(input()) \n",
    "    data.append(ele)\n",
    "      \n",
    "\n",
    "flag = 0\n",
    "data2 = []\n",
    "\n",
    "for j in range(0, n-1):\n",
    "    for k in range(0, n-1):\n",
    "        if data[k] == data[j]:\n",
    "            data2.append(data[k])\n",
    "\n",
    "        \n",
    "        \n",
    "print(\"The duplicate values you entered are \",data2)\n",
    "    \n",
    "    \n"
   ]
  },
  {
   "cell_type": "markdown",
   "metadata": {},
   "source": [
    "6. Write a Python script to check if a given key already exists in a dictionary"
   ]
  },
  {
   "cell_type": "code",
   "execution_count": 14,
   "metadata": {},
   "outputs": [
    {
     "name": "stdout",
     "output_type": "stream",
     "text": [
      "Enter the number you want to check :  500\n",
      "Absent\n"
     ]
    }
   ],
   "source": [
    "data = {\"a\":100,\"b\":200,\"c\":200}\n",
    "\n",
    "key = int(input(\"Enter the number you want to check :  \"))\n",
    "flag = 0\n",
    "for j in data:\n",
    "    if key == j:\n",
    "        flag == 1\n",
    "        break\n",
    "    break\n",
    "            \n",
    "if flag == 1:\n",
    "    print(\"Yes Present\")\n",
    "    \n",
    "else:\n",
    "    print(\"Absent\")"
   ]
  },
  {
   "cell_type": "code",
   "execution_count": null,
   "metadata": {},
   "outputs": [],
   "source": []
  },
  {
   "cell_type": "code",
   "execution_count": null,
   "metadata": {},
   "outputs": [],
   "source": []
  }
 ],
 "metadata": {
  "kernelspec": {
   "display_name": "Python 3",
   "language": "python",
   "name": "python3"
  }
 },
 "nbformat": 4,
 "nbformat_minor": 2
}
