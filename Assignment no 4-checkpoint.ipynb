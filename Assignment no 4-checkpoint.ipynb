{
 "cells": [
  {
   "cell_type": "markdown",
   "metadata": {},
   "source": [
    "**Question1:\n",
    "Use a dictionary to store information about a person you know. Store their first name, last name, age,\n",
    "and the city in which they live. You should have keys such as first_name, last_name, age, and city. Print\n",
    "each piece of information stored in your dictionary. Add a new key value pair about qualification then\n",
    "update the qualification value to high academic level then delete it.**"
   ]
  },
  {
   "cell_type": "code",
   "execution_count": 1,
   "metadata": {},
   "outputs": [
    {
     "name": "stdout",
     "output_type": "stream",
     "text": [
      "{'first_name': 'Dayyan', 'last_name': 'Khan', 'Age': '20', 'City': 'Karachi'}\n",
      "{'first_name': 'Dayyan', 'last_name': 'Khan', 'Age': '20', 'City': 'Karachi', 'qualification': 'undergraduate'}\n",
      "{'first_name': 'Dayyan', 'last_name': 'Khan', 'Age': '20', 'City': 'Karachi'}\n"
     ]
    }
   ],
   "source": [
    "my_friend={\n",
    "    \"first_name\" : \"Dayyan\",\n",
    "    \"last_name\" : \"Khan\",\n",
    "    \"Age\" : \"20\",\n",
    "    \"City\" : \"Karachi\"\n",
    "}\n",
    "\n",
    "print(my_friend)\n",
    "\n",
    "my_friend[\"qualification\"]=\"undergraduate\"\n",
    "\n",
    "print(my_friend)\n",
    "\n",
    "del my_friend[\"qualification\"]\n",
    "print(my_friend)\n"
   ]
  },
  {
   "cell_type": "markdown",
   "metadata": {},
   "source": [
    "**Question2:\n",
    "Make a dictionary called cities. Use the names of three cities as keys in your dictionary. Create a\n",
    "dictionary of information about each city and include the country that the city is in, its approximate\n",
    "population, and one fact about that city. The keys for each city’s dictionary should be something like\n",
    "country, population, and fact. Print the name of each city and all of the information you have stored\n",
    "about it.**"
   ]
  },
  {
   "cell_type": "code",
   "execution_count": 2,
   "metadata": {},
   "outputs": [
    {
     "name": "stdout",
     "output_type": "stream",
     "text": [
      "{'karachi': {'country': 'Pakistan', 'Population': '2 crores', 'fact': 'Biggest city of Pakistan'}, 'Dubai': {'country': 'UAE', 'Population': '80 lacs', 'fact': 'Busiest city in the world'}, 'Sydney': {'country': 'Australia', 'Population': '50 lacs', 'fact': 'Most beautiful city in the world'}}\n"
     ]
    }
   ],
   "source": [
    "cities = {\n",
    "    \"karachi\" : {\n",
    "        \"country\" : \"Pakistan\",\n",
    "        \"Population\" : \"2 crores\",\n",
    "        \"fact\" : \"Biggest city of Pakistan\",\n",
    "    },\n",
    "    \n",
    "    \"Dubai\" : {\n",
    "        \"country\" : \"UAE\",\n",
    "        \"Population\" : \"80 lacs\",\n",
    "        \"fact\" : \"Busiest city in the world\",\n",
    "    },\n",
    "    \n",
    "    \"Sydney\" : {\n",
    "        \"country\" : \"Australia\",\n",
    "        \"Population\" : \"50 lacs\",\n",
    "        \"fact\" : \"Most beautiful city in the world\"\n",
    "    }\n",
    "}\n",
    "\n",
    "print(cities)"
   ]
  },
  {
   "cell_type": "markdown",
   "metadata": {},
   "source": [
    "**Question3:\n",
    "A movie theater charges different ticket prices depending on a person’s age. If a person is under the age\n",
    "of 3, the ticket is free; if they are between 3 and 12, the ticket is $10; and if they are over age 12, the\n",
    "ticket is $15. Write a loop in which you ask users their age, and then tell them the cost of their movie\n",
    "ticket.**"
   ]
  },
  {
   "cell_type": "code",
   "execution_count": 3,
   "metadata": {},
   "outputs": [
    {
     "name": "stdout",
     "output_type": "stream",
     "text": [
      "please enter your age : 9\n",
      "Your ticket is of 10$\n"
     ]
    }
   ],
   "source": [
    "age=int(input(\"please enter your age : \"))\n",
    "\n",
    "if age < 3:\n",
    "    print(\"Your ticket is free\")\n",
    "elif age > 3 and age <12:\n",
    "    print(\"Your ticket is of 10$\")\n",
    "else:\n",
    "    print(\"Your ticket is of 15$\")"
   ]
  },
  {
   "cell_type": "markdown",
   "metadata": {},
   "source": [
    "**Question4:\n",
    "Write a function called favorite_book() that accepts one parameter, title. The function should print a\n",
    "message, such as One of my favorite books is Alice in Wonderland. Call the function, making sure to\n",
    "include a book title as an argument in the function call.**"
   ]
  },
  {
   "cell_type": "code",
   "execution_count": 4,
   "metadata": {},
   "outputs": [
    {
     "name": "stdout",
     "output_type": "stream",
     "text": [
      "One of my favorite books is Rich dad Poor Dad\n"
     ]
    }
   ],
   "source": [
    "title = \"Rich dad Poor Dad\" \n",
    "\n",
    "def favorite_book(title):\n",
    "    print(\"One of my favorite books is \" + title)\n",
    "    \n",
    "favorite_book(title)\n",
    "    "
   ]
  },
  {
   "cell_type": "markdown",
   "metadata": {},
   "source": [
    "**Question5:\n",
    "Guess the number game\n",
    "Write a program which randomly generate a number between 1 to 30 and ask the user in input field to\n",
    "guess the correct number. Give three chances to user guess the number and also give hint to user if\n",
    "hidden number is greater or smaller than the number he given to input field.**"
   ]
  },
  {
   "cell_type": "code",
   "execution_count": 5,
   "metadata": {},
   "outputs": [
    {
     "name": "stdout",
     "output_type": "stream",
     "text": [
      "\n",
      "ATTEMPT NO 1\n",
      "Please enter any number between 0 to 30. You have only 3 attempts.4\n",
      "The number you entered is lesser than the correct answer. You still have 2  attempts remaining.\n",
      "\n",
      "ATTEMPT NO 2\n",
      "Please enter any number between 0 to 30. You have only 3 attempts.28\n",
      "The number you entered is greater than the correct answer. You still have 1  attempts remaining.\n",
      "\n",
      "ATTEMPT NO 3\n",
      "Please enter any number between 0 to 30. You have only 3 attempts.24\n",
      "BINGO! you have guessed the correct number.\n",
      "Game Over. Thanks for playing.\n"
     ]
    }
   ],
   "source": [
    "random = 24\n",
    "\n",
    "for j in range(0,3):\n",
    "    print(\"\\nATTEMPT NO\", j+1)\n",
    "    num = int(input(\"Please enter any number between 0 to 30. You have only 3 attempts.\"))\n",
    "    if num == random:\n",
    "        print(\"BINGO! you have guessed the correct number.\")\n",
    "        break\n",
    "    elif num < random:\n",
    "        print(\"The number you entered is lesser than the correct answer. You still have\" , 2-j , \" attempts remaining.\")\n",
    "    elif num > random:\n",
    "        print(\"The number you entered is greater than the correct answer. You still have\" , 2-j , \" attempts remaining.\")\n",
    "    else:\n",
    "        print(\"You have to enter between 0 and 30.\")\n",
    "        \n",
    "print(\"Game Over. Thanks for playing.\")"
   ]
  },
  {
   "cell_type": "code",
   "execution_count": null,
   "metadata": {},
   "outputs": [],
   "source": []
  }
 ],
 "metadata": {
  "kernelspec": {
   "display_name": "Python 3",
   "language": "python",
   "name": "python3"
  },
  "language_info": {
   "codemirror_mode": {
    "name": "ipython",
    "version": 3
   },
   "file_extension": ".py",
   "mimetype": "text/x-python",
   "name": "python",
   "nbconvert_exporter": "python",
   "pygments_lexer": "ipython3",
   "version": "3.7.4"
  }
 },
 "nbformat": 4,
 "nbformat_minor": 2
}
