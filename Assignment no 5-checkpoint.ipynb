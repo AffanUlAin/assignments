{
 "cells": [
  {
   "cell_type": "markdown",
   "metadata": {},
   "source": [
    "**Question:1\n",
    "Write a Python function to calculate the factorial of a number (a non-negative\n",
    "integer). The function accepts the number as an argument.**"
   ]
  },
  {
   "cell_type": "code",
   "execution_count": 1,
   "metadata": {},
   "outputs": [
    {
     "name": "stdout",
     "output_type": "stream",
     "text": [
      "please enter a number to find its factorial 6\n",
      "720\n"
     ]
    }
   ],
   "source": [
    "num = int(input(\"please enter a number to find its factorial \"))\n",
    "\n",
    "def factorial(num):\n",
    "    \n",
    "    if num <0 or num == 0:\n",
    "        return 1\n",
    "    else:\n",
    "        ans = 1\n",
    "        while (num-1) != 0:\n",
    "            ans = ans * (num)\n",
    "            num = num-1\n",
    "    return ans\n",
    "\n",
    "print(factorial(num))"
   ]
  },
  {
   "cell_type": "markdown",
   "metadata": {},
   "source": [
    "**Question:2\n",
    "Write a Python function that accepts a string and calculate the number of upper\n",
    "case letters and lower case letters.**"
   ]
  },
  {
   "cell_type": "code",
   "execution_count": 2,
   "metadata": {},
   "outputs": [
    {
     "name": "stdout",
     "output_type": "stream",
     "text": [
      "(8, 9)\n"
     ]
    }
   ],
   "source": [
    "str = \"Rich DAD and Poor DAD\"\n",
    "def uplp(str):\n",
    "    ucl=0\n",
    "    lcl=0\n",
    "    \n",
    "    for i in str:\n",
    "        if ord(i)>64 and ord(i)<91:\n",
    "            ucl = ucl + 1\n",
    "        elif ord(i)>96 and ord(i)<123:\n",
    "            lcl = lcl + 1\n",
    "    return ucl , lcl\n",
    "\n",
    "print (uplp(str))"
   ]
  },
  {
   "cell_type": "markdown",
   "metadata": {},
   "source": [
    "**Question:3\n",
    "Write a Python function to print the even numbers from a given list.**"
   ]
  },
  {
   "cell_type": "code",
   "execution_count": 3,
   "metadata": {},
   "outputs": [
    {
     "name": "stdout",
     "output_type": "stream",
     "text": [
      "Enter number of elements : 5\n",
      "1\n",
      "2\n",
      "3\n",
      "4\n",
      "5\n",
      "[2, 4]\n"
     ]
    }
   ],
   "source": [
    "data = [] \n",
    "n = int(input(\"Enter number of elements : \")) \n",
    "  \n",
    "for i in range(0, n): \n",
    "    ele = int(input()) \n",
    "    data.append(ele)\n",
    "    \n",
    "def even(data):\n",
    "    even_no=[]\n",
    "    \n",
    "    for i in data:\n",
    "        if (i % 2) == 0:\n",
    "            even_no.append(i)\n",
    "            \n",
    "    return even_no\n",
    "\n",
    "print(even(data))"
   ]
  },
  {
   "cell_type": "markdown",
   "metadata": {},
   "source": [
    "**Question:4\n",
    "Write a Python function that checks whether a passed string is palindrome or not.\n",
    "Note: A palindrome is a word, phrase, or sequence that reads the same\n",
    "backward as forward, e.g., madam**"
   ]
  },
  {
   "cell_type": "code",
   "execution_count": 4,
   "metadata": {},
   "outputs": [
    {
     "name": "stdout",
     "output_type": "stream",
     "text": [
      "Enter a word to chech if its a palindrome MARKRAM\n",
      "yes\n"
     ]
    }
   ],
   "source": [
    "str=input(\"Enter a word to chech if its a palindrome \")\n",
    "def palindrome(str):\n",
    "    x= 0\n",
    "    y= len(str)-1\n",
    "    \n",
    "    for i in range(0,len(str)):\n",
    "        if str[x] != str[y]:\n",
    "            no = \"no\"\n",
    "            return no\n",
    "        \n",
    "        elif str[x] == str[y]:\n",
    "            x = x + 1\n",
    "            y = y - 1\n",
    "    true = \"yes\"\n",
    "    return true\n",
    "\n",
    "print(palindrome(str))"
   ]
  },
  {
   "cell_type": "markdown",
   "metadata": {},
   "source": [
    "**Question:5\n",
    "Write a Python function that takes a number as a parameter and check the\n",
    "number is prime or not.**"
   ]
  },
  {
   "cell_type": "code",
   "execution_count": 5,
   "metadata": {},
   "outputs": [
    {
     "name": "stdout",
     "output_type": "stream",
     "text": [
      "please enter a number to check if it is prime or not : 19\n",
      "Prime\n"
     ]
    }
   ],
   "source": [
    "num=int(input(\"please enter a number to check if it is prime or not : \"))\n",
    "\n",
    "def prime(num):\n",
    "    for i in range(2,num-1):\n",
    "        if (num % i == 0):\n",
    "            not1 = \"not prime\"\n",
    "            return not1\n",
    "    true = \"Prime\"\n",
    "    return true\n",
    "\n",
    "print(prime(num))"
   ]
  },
  {
   "cell_type": "markdown",
   "metadata": {},
   "source": [
    "**Question: 6\n",
    "Suppose a customer is shopping in a market and you need to print all the items\n",
    "which user bought from market.\n",
    "Write a function which accepts the multiple arguments of user shopping list and\n",
    "print all the items which user bought from market.\n",
    "(Hint: Arbitrary Argument concept can make this task ease)**"
   ]
  },
  {
   "cell_type": "code",
   "execution_count": 6,
   "metadata": {},
   "outputs": [
    {
     "name": "stdout",
     "output_type": "stream",
     "text": [
      "You have bought shirt\n",
      "You have bought tshirt\n",
      "You have bought jeans\n",
      "You have bought shoes\n",
      "You have bought watch\n"
     ]
    }
   ],
   "source": [
    "def shopping(*items):\n",
    "    for i in items:\n",
    "        print(\"You have bought \" + i )\n",
    "        \n",
    "shopping(\"shirt\",\"tshirt\",\"jeans\",\"shoes\",\"watch\")"
   ]
  },
  {
   "cell_type": "code",
   "execution_count": null,
   "metadata": {},
   "outputs": [],
   "source": []
  }
 ],
 "metadata": {
  "kernelspec": {
   "display_name": "Python 3",
   "language": "python",
   "name": "python3"
  },
  "language_info": {
   "codemirror_mode": {
    "name": "ipython",
    "version": 3
   },
   "file_extension": ".py",
   "mimetype": "text/x-python",
   "name": "python",
   "nbconvert_exporter": "python",
   "pygments_lexer": "ipython3",
   "version": "3.7.4"
  }
 },
 "nbformat": 4,
 "nbformat_minor": 2
}
